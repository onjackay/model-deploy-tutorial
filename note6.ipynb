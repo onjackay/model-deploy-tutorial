{
 "cells": [
  {
   "cell_type": "code",
   "execution_count": 102,
   "metadata": {},
   "outputs": [],
   "source": [
    "import torch\n",
    "\n",
    "\"\"\"Debug operator\"\"\"\n",
    "class DebugOp(torch.autograd.Function):\n",
    "\n",
    "    @staticmethod\n",
    "    def forward(ctx, x, name):\n",
    "        return x\n",
    "    \n",
    "    @staticmethod\n",
    "    def symbolic(g, x, name):\n",
    "        return g.op(\"my::Debug\", x, name_s=name)\n",
    "\n",
    "debug_apply = DebugOp.apply"
   ]
  },
  {
   "cell_type": "code",
   "execution_count": 103,
   "metadata": {},
   "outputs": [],
   "source": [
    "import onnx\n",
    "import onnxruntime\n",
    "\n",
    "\"\"\"Debugger\"\"\"\n",
    "class Debugger():\n",
    "    \n",
    "    def __init__(self) -> None:\n",
    "        super().__init__()\n",
    "        self.torch_value = dict()\n",
    "        self.onnx_value = dict()\n",
    "        self.output_debug_name = []\n",
    "    \n",
    "    def debug(self, x, name):\n",
    "        self.torch_value[name] = x.detach().cpu().numpy()\n",
    "        return debug_apply(x, name)\n",
    "    \n",
    "    def extract_debug_model(self, input_path, output_path):\n",
    "        \"\"\"Extract debug nodes from onnx model and save to new model\"\"\"\n",
    "        model = onnx.load(input_path)\n",
    "        input_names = [input.name for input in model.graph.input]\n",
    "        # output_names = [output.name for output in model.graph.output]\n",
    "        output_names = []\n",
    "\n",
    "        for node in model.graph.node:\n",
    "            if node.op_type == \"Debug\":\n",
    "                self.output_debug_name.append(node.attribute[0].s.decode(\"utf-8\"))\n",
    "                output_names.append(node.output[0])\n",
    "                \n",
    "                node.op_type = \"Identity\"\n",
    "                node.domain = \"\"\n",
    "                node.ClearField(\"attribute\")\n",
    "        \n",
    "        e = onnx.utils.Extractor(model)\n",
    "        extracted_model = e.extract_model(input_names, output_names)\n",
    "        onnx.save(extracted_model, output_path)\n",
    "\n",
    "    def run_debug_model(self, input, debug_model):\n",
    "        sess = onnxruntime.InferenceSession(debug_model, providers = ['CPUExecutionProvider'])\n",
    "        onnx_outputs = sess.run(None, input)\n",
    "\n",
    "        for name, value in zip(self.output_debug_name, onnx_outputs):\n",
    "            self.onnx_value[name] = value\n",
    "\n",
    "    def print_debug_result(self):\n",
    "        for name in self.output_debug_name:\n",
    "            print(f\"Debug node name: {name}\")\n",
    "            # print(f\"Pytorch value: {self.torch_value[name]}\")\n",
    "            # print(f\"Onnx value: {self.onnx_value[name]}\")\n",
    "            print(f\"MSE: {((self.torch_value[name] - self.onnx_value[name])**2).mean()}\")\n",
    "            print(\"\\n\")\n"
   ]
  },
  {
   "cell_type": "code",
   "execution_count": 104,
   "metadata": {},
   "outputs": [],
   "source": [
    "class Model(torch.nn.Module):\n",
    "\n",
    "    def __init__(self):\n",
    "        super().__init__()\n",
    "        self.convs1 = torch.nn.Sequential(torch.nn.Conv2d(3, 16, 3), \n",
    "                                          torch.nn.Conv2d(16, 16, 3),\n",
    "                                          torch.nn.Conv2d(16, 16, 3))\n",
    "        self.convs2 = torch.nn.Sequential(torch.nn.Conv2d(16, 16, 3), \n",
    "                                          torch.nn.Conv2d(16, 16, 3),\n",
    "                                          torch.nn.Conv2d(16, 16, 3))\n",
    "        self.convs3 = torch.nn.Sequential(torch.nn.Conv2d(16, 16, 3),\n",
    "                                            torch.nn.Conv2d(16, 16, 3),\n",
    "                                            torch.nn.Conv2d(16, 3, 3))\n",
    "    \n",
    "    def forward(self, x):\n",
    "        x = self.convs1(x)\n",
    "        x = self.convs2(x)\n",
    "        x = self.convs3(x)\n",
    "        return x"
   ]
  },
  {
   "cell_type": "code",
   "execution_count": 105,
   "metadata": {},
   "outputs": [],
   "source": [
    "model = Model()\n",
    "debugger = Debugger()"
   ]
  },
  {
   "cell_type": "code",
   "execution_count": 106,
   "metadata": {},
   "outputs": [],
   "source": [
    "from types import MethodType\n",
    "\n",
    "def new_forward(self, x):\n",
    "    x = self.convs1(x)\n",
    "    x = debugger.debug(x, \"x_1\")\n",
    "    x = self.convs2(x)\n",
    "    x = debugger.debug(x, \"x_2\")\n",
    "    x = self.convs3(x)\n",
    "    return x\n",
    "\n",
    "model.forward = MethodType(new_forward, model)"
   ]
  },
  {
   "cell_type": "code",
   "execution_count": 107,
   "metadata": {},
   "outputs": [
    {
     "name": "stderr",
     "output_type": "stream",
     "text": [
      "/tmp/ipykernel_3690/3444250791.py:14: TracerWarning: Converting a tensor to a NumPy array might cause the trace to be incorrect. We can't record the data flow of Python values, so this value will be treated as a constant in the future. This means that the trace might not generalize to other inputs!\n",
      "  self.torch_value[name] = x.detach().cpu().numpy()\n",
      "[W shape_type_inference.cpp:1968] Warning: The shape inference of my::Debug type is missing, so it may result in wrong shape inference for the exported graph. Please consider adding it in symbolic function. (function UpdateReliable)\n",
      "[W shape_type_inference.cpp:1968] Warning: The shape inference of my::Debug type is missing, so it may result in wrong shape inference for the exported graph. Please consider adding it in symbolic function. (function UpdateReliable)\n"
     ]
    }
   ],
   "source": [
    "dummy_input = torch.randn(1, 3, 224, 224)\n",
    "torch.onnx.export(model, dummy_input, \"before_debug.onnx\", \n",
    "                  input_names=[\"input\"], output_names=[\"output\"])"
   ]
  },
  {
   "cell_type": "code",
   "execution_count": 108,
   "metadata": {},
   "outputs": [],
   "source": [
    "debugger.extract_debug_model(\"before_debug.onnx\", \"after_debug.onnx\")"
   ]
  },
  {
   "cell_type": "code",
   "execution_count": 109,
   "metadata": {},
   "outputs": [],
   "source": [
    "debugger.run_debug_model({\"input\": dummy_input.numpy()}, \"after_debug.onnx\")"
   ]
  },
  {
   "cell_type": "code",
   "execution_count": 110,
   "metadata": {},
   "outputs": [
    {
     "name": "stdout",
     "output_type": "stream",
     "text": [
      "Debug node name: x_1\n",
      "MSE: 5.233316408128968e-15\n",
      "\n",
      "\n",
      "Debug node name: x_2\n",
      "MSE: 7.869065781912498e-16\n",
      "\n",
      "\n"
     ]
    }
   ],
   "source": [
    "debugger.print_debug_result()"
   ]
  },
  {
   "cell_type": "code",
   "execution_count": null,
   "metadata": {},
   "outputs": [],
   "source": []
  }
 ],
 "metadata": {
  "kernelspec": {
   "display_name": "venv",
   "language": "python",
   "name": "python3"
  },
  "language_info": {
   "codemirror_mode": {
    "name": "ipython",
    "version": 3
   },
   "file_extension": ".py",
   "mimetype": "text/x-python",
   "name": "python",
   "nbconvert_exporter": "python",
   "pygments_lexer": "ipython3",
   "version": "3.10.12"
  }
 },
 "nbformat": 4,
 "nbformat_minor": 2
}
